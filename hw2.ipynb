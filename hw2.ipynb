{
  "metadata": {
    "language_info": {
      "name": "python",
      "version": "3.7.8",
      "mimetype": "text/x-python",
      "codemirror_mode": {
        "name": "ipython",
        "version": 3
      },
      "pygments_lexer": "ipython3",
      "nbconvert_exporter": "python",
      "file_extension": ".py"
    },
    "kernelspec": {
      "name": "python3",
      "display_name": "Python 3",
      "language": "python"
    },
    "colab": {
      "name": "hw2.ipynb",
      "provenance": []
    }
  },
  "nbformat_minor": 5,
  "nbformat": 4,
  "cells": [
    {
      "cell_type": "code",
      "source": [
        "x='Y'\n",
        "if x == 'Y': \n",
        " print(\"Slytherine!\")\n",
        "elif x == 'N':\n",
        " print(\"Gryffindor\")\n",
        "elif x == 'B':\n",
        " print(\"Hufflepuff\")\n",
        "else:\n",
        " print(\"Ravenclaw\")"
      ],
      "metadata": {
        "trusted": true,
        "id": "1da70890-e139-4d6f-a1fc-d4e0dc0347fc",
        "outputId": "337983a6-a59a-4bc8-efb9-73c1c111651a"
      },
      "execution_count": null,
      "outputs": [
        {
          "name": "stdout",
          "text": "Slytherine!\n",
          "output_type": "stream"
        }
      ],
      "id": "1da70890-e139-4d6f-a1fc-d4e0dc0347fc"
    },
    {
      "cell_type": "code",
      "source": [
        "import numpy as np\n",
        "\n",
        "mydata = np.array([1, 7, 5, 8])\n",
        "print(mydata)\n",
        "\n",
        "print(mydata.mean())\n",
        "print(mydata.std())"
      ],
      "metadata": {
        "trusted": true,
        "id": "3d960de5-76c8-4af0-9f69-fe243d4b4717",
        "outputId": "520d30e0-65bc-44a5-b836-53c558c6e92d"
      },
      "execution_count": null,
      "outputs": [
        {
          "name": "stdout",
          "text": "[1 7 5 8]\n5.25\n2.680951323690902\n",
          "output_type": "stream"
        }
      ],
      "id": "3d960de5-76c8-4af0-9f69-fe243d4b4717"
    },
    {
      "cell_type": "code",
      "source": [
        "import numpy as np\n",
        "\n",
        "a = [1, 6, 8, 4] \n",
        "a_np_array_version = np.array(a)\n",
        "print(a)\n",
        "\n",
        "def lag(a,n):\n",
        "  leng_a = len(a)\n",
        "  ##it means the we need to lag more than a length\n",
        "  if leng_a <= n:\n",
        "    return ['nan']* leng_a\n",
        "  else:\n",
        "    return ['nan']* n + a[:leng_a- n]\n",
        "  \n",
        "print(lag(a, 1))\n",
        "print(lag(a, 2))"
      ],
      "metadata": {
        "trusted": true,
        "id": "0339387d-d92c-418e-a38a-881f24fdd633",
        "outputId": "730718dc-b1b4-4dd7-85b9-d2a92d2079f3"
      },
      "execution_count": null,
      "outputs": [
        {
          "name": "stdout",
          "text": "[1, 6, 8, 4]\n['nan', 1, 6, 8]\n['nan', 'nan', 1, 6]\n",
          "output_type": "stream"
        }
      ],
      "id": "0339387d-d92c-418e-a38a-881f24fdd633"
    },
    {
      "cell_type": "code",
      "source": [
        "def lag_generator(lag_time,a,n):\n",
        "\n",
        "  def lag(a,n,lag_time):\n",
        "    leng_a = len(a)\n",
        "    ##it means the we need to lag more than a length\n",
        "    if leng_a <= n:\n",
        "      return [lag_time]* leng_a\n",
        "    else:\n",
        "      return [lag_time]* n + a[:leng_a- n]\n",
        "  result = lag(a,n,lag_time)\n",
        "  return result\n",
        "print(lag_generator(250,a, 4))\n",
        "print(lag_generator(250,a, 2))"
      ],
      "metadata": {
        "trusted": true,
        "id": "4cb2682c-66f1-49c2-a262-e9692aa7d113",
        "outputId": "5596806f-b0d9-4d3c-f78c-39f9d62f3711"
      },
      "execution_count": null,
      "outputs": [
        {
          "name": "stdout",
          "text": "[250, 250, 250, 250]\n[250, 250, 1, 6]\n",
          "output_type": "stream"
        }
      ],
      "id": "4cb2682c-66f1-49c2-a262-e9692aa7d113"
    },
    {
      "cell_type": "code",
      "source": [
        ""
      ],
      "metadata": {
        "trusted": true,
        "id": "0e29d4de-cf5a-4b55-9551-df37361b8d07"
      },
      "execution_count": null,
      "outputs": [],
      "id": "0e29d4de-cf5a-4b55-9551-df37361b8d07"
    },
    {
      "cell_type": "code",
      "source": [
        ""
      ],
      "metadata": {
        "id": "b8477cfd-e303-409c-bf28-d520dbb857fb"
      },
      "execution_count": null,
      "outputs": [],
      "id": "b8477cfd-e303-409c-bf28-d520dbb857fb"
    }
  ]
}